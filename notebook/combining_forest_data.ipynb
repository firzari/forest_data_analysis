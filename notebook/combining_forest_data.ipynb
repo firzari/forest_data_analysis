{
 "cells": [
  {
   "cell_type": "markdown",
   "metadata": {},
   "source": [
    "# Combining 15 forest data layers into a single CSV template"
   ]
  },
  {
   "cell_type": "code",
   "execution_count": 4,
   "metadata": {},
   "outputs": [],
   "source": [
    "# Tabular data \n",
    "import pandas as pd\n",
    "import numpy as np\n",
    "\n",
    "# System\n",
    "from pathlib import Path\n",
    "import glob\n",
    "import os"
   ]
  },
  {
   "cell_type": "markdown",
   "metadata": {},
   "source": [
    "# Output directory"
   ]
  },
  {
   "cell_type": "code",
   "execution_count": 2,
   "metadata": {},
   "outputs": [],
   "source": [
    "# Specify the desired output folder path for processed dataset\n",
    "output_data_dir = Path.cwd() / \"..\" / \"output_data\"\n",
    "\n",
    "# Check if the output folder exists, and create if not\n",
    "Path.mkdir(output_data_dir, exist_ok=True, parents=True)"
   ]
  },
  {
   "cell_type": "code",
   "execution_count": 7,
   "metadata": {},
   "outputs": [
    {
     "name": "stdout",
     "output_type": "stream",
     "text": [
      "/mnt/PROVIDE/firzar/forest_data_analysis/notebook/../output_data\n"
     ]
    }
   ],
   "source": [
    "print(output_data_dir)"
   ]
  },
  {
   "cell_type": "code",
   "execution_count": 22,
   "metadata": {},
   "outputs": [
    {
     "name": "stdout",
     "output_type": "stream",
     "text": [
      "File: /mnt/PROVIDE/firzar/forest_data_analysis/notebook/../output_data/iso_forest_cover_stats.csv, Shape: (32, 6)\n",
      "File: /mnt/PROVIDE/firzar/forest_data_analysis/notebook/../output_data/iso_forest_agb_class.csv, Shape: (192, 6)\n",
      "File: /mnt/PROVIDE/firzar/forest_data_analysis/notebook/../output_data/iso_forest_cover_fraction.csv, Shape: (320, 6)\n",
      "File: /mnt/PROVIDE/firzar/forest_data_analysis/notebook/../output_data/iso_forest_fragment.csv, Shape: (32, 6)\n",
      "File: /mnt/PROVIDE/firzar/forest_data_analysis/notebook/../output_data/iso_disturbance_year.csv, Shape: (1120, 6)\n",
      "File: /mnt/PROVIDE/firzar/forest_data_analysis/notebook/../output_data/iso_forest_fragment_increase.csv, Shape: (64, 6)\n",
      "File: /mnt/PROVIDE/firzar/forest_data_analysis/notebook/../output_data/iso_natural_forests.csv, Shape: (32, 6)\n",
      "File: /mnt/PROVIDE/firzar/forest_data_analysis/notebook/../output_data/iso_forest_type.csv, Shape: (128, 6)\n",
      "File: /mnt/PROVIDE/firzar/forest_data_analysis/notebook/../output_data/iso_disturbance_intensity_class.csv, Shape: (320, 6)\n",
      "File: /mnt/PROVIDE/firzar/forest_data_analysis/notebook/../output_data/iso_forest_fragment_class.csv, Shape: (320, 6)\n",
      "File: /mnt/PROVIDE/firzar/forest_data_analysis/notebook/../output_data/iso_disturbance_intensity.csv, Shape: (32, 6)\n",
      "File: /mnt/PROVIDE/firzar/forest_data_analysis/notebook/../output_data/iso_forest_gain_loss_stable.csv, Shape: (96, 6)\n",
      "File: /mnt/PROVIDE/firzar/forest_data_analysis/notebook/../output_data/iso_canopy_height.csv, Shape: (256, 6)\n",
      "File: /mnt/PROVIDE/firzar/forest_data_analysis/notebook/../output_data/iso_forest_fragment_decrease.csv, Shape: (64, 6)\n",
      "File: /mnt/PROVIDE/firzar/forest_data_analysis/notebook/../output_data/iso_forest_agb.csv, Shape: (32, 6)\n"
     ]
    }
   ],
   "source": [
    "# Define the pattern to match files\n",
    "pattern = 'iso_*'\n",
    "\n",
    "# Find all files matching the pattern\n",
    "files = glob.glob(f\"{output_data_dir}/{pattern}\")\n",
    "\n",
    "# Template to store the data as a list\n",
    "forest_data_layer = []\n",
    "\n",
    "# Loop through the list of files\n",
    "for file in files:\n",
    "    # Check if it's a file (optional, to ensure it's not a directory)\n",
    "    if os.path.isfile(file):\n",
    "\n",
    "        # Import to pandas\n",
    "        forest_file = pd.read_csv(file).drop([\"Unnamed: 0\"], axis=1)\n",
    "\n",
    "        # Print the file name and content (for example)\n",
    "        print(f\"File: {file}, Shape: {forest_file.shape}\")\n",
    "\n",
    "        forest_data_layer.append(forest_file)\n",
    "\n",
    "forest_data_layer_df = pd.concat(forest_data_layer)\n"
   ]
  },
  {
   "cell_type": "code",
   "execution_count": 24,
   "metadata": {},
   "outputs": [
    {
     "data": {
      "text/plain": [
       "(3040, 6)"
      ]
     },
     "execution_count": 24,
     "metadata": {},
     "output_type": "execute_result"
    }
   ],
   "source": [
    "# Shape should be (3040, 6)\n",
    "forest_data_layer_df.shape"
   ]
  },
  {
   "cell_type": "markdown",
   "metadata": {},
   "source": [
    "# Export the processed data"
   ]
  },
  {
   "cell_type": "code",
   "execution_count": 25,
   "metadata": {},
   "outputs": [],
   "source": [
    "forest_data_layer_df.to_csv(output_data_dir/\"complete_iso_forest_data_layers.csv\")"
   ]
  },
  {
   "cell_type": "code",
   "execution_count": null,
   "metadata": {},
   "outputs": [],
   "source": []
  }
 ],
 "metadata": {
  "kernelspec": {
   "display_name": "firza_forest_geo",
   "language": "python",
   "name": "python3"
  },
  "language_info": {
   "codemirror_mode": {
    "name": "ipython",
    "version": 3
   },
   "file_extension": ".py",
   "mimetype": "text/x-python",
   "name": "python",
   "nbconvert_exporter": "python",
   "pygments_lexer": "ipython3",
   "version": "3.11.8"
  }
 },
 "nbformat": 4,
 "nbformat_minor": 2
}
