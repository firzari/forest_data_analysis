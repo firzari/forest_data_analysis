{
 "cells": [
  {
   "cell_type": "markdown",
   "metadata": {},
   "source": [
    "# Canopy height"
   ]
  },
  {
   "cell_type": "code",
   "execution_count": 1,
   "metadata": {},
   "outputs": [],
   "source": [
    "# Vector data\n",
    "import geopandas as gpd\n",
    "\n",
    "# Tabular data \n",
    "import pandas as pd\n",
    "import numpy as np\n",
    "\n",
    "# Raster array\n",
    "import xarray as xr\n",
    "\n",
    "# Plotting\n",
    "import matplotlib.pyplot as plt\n",
    "\n",
    "# System\n",
    "from pathlib import Path\n",
    "\n",
    "# Import functions from geo_tools module\n",
    "from geo_tools import plot_iso_forest\n",
    "\n",
    "# Reloads module\n",
    "%load_ext autoreload\n",
    "%autoreload 2"
   ]
  },
  {
   "cell_type": "markdown",
   "metadata": {},
   "source": [
    "# Testing forest height"
   ]
  },
  {
   "cell_type": "code",
   "execution_count": null,
   "metadata": {},
   "outputs": [],
   "source": [
    "deu_avg_height = plot_iso_forest.average_values(iso_code=\"DEU\", xarray_id=\"Canopy_height\", forest_layer_year=2020)"
   ]
  },
  {
   "cell_type": "code",
   "execution_count": null,
   "metadata": {},
   "outputs": [],
   "source": [
    "deu_avg_height"
   ]
  }
 ],
 "metadata": {
  "kernelspec": {
   "display_name": "firza_forest_geo",
   "language": "python",
   "name": "python3"
  },
  "language_info": {
   "codemirror_mode": {
    "name": "ipython",
    "version": 3
   },
   "file_extension": ".py",
   "mimetype": "text/x-python",
   "name": "python",
   "nbconvert_exporter": "python",
   "pygments_lexer": "ipython3",
   "version": "3.11.8"
  }
 },
 "nbformat": 4,
 "nbformat_minor": 2
}
