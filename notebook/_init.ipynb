{
 "cells": [
  {
   "cell_type": "markdown",
   "metadata": {},
   "source": [
    "# Initialising folder organisation"
   ]
  },
  {
   "cell_type": "code",
   "execution_count": 1,
   "metadata": {},
   "outputs": [],
   "source": [
    "from pathlib import Path\n",
    "import pandas as pd\n",
    "import os"
   ]
  },
  {
   "cell_type": "markdown",
   "metadata": {},
   "source": [
    "# Output directory"
   ]
  },
  {
   "cell_type": "code",
   "execution_count": 2,
   "metadata": {},
   "outputs": [],
   "source": [
    "# Specify the desired output folder path for processed dataset\n",
    "output_data_dir = Path.cwd() / \"..\" / \"output_data\"\n",
    "\n",
    "# Check if the output folder exists, and create if not\n",
    "Path.mkdir(output_data_dir, exist_ok=True, parents=True)"
   ]
  },
  {
   "cell_type": "code",
   "execution_count": 3,
   "metadata": {},
   "outputs": [],
   "source": [
    "# Specify the desired output folder path for figures\n",
    "output_figure_dir = Path.cwd() / \"..\" / \"output_figures\"\n",
    "\n",
    "# Check if the output folder exists, and create if not\n",
    "Path.mkdir(output_figure_dir, exist_ok=True, parents=True)"
   ]
  },
  {
   "cell_type": "markdown",
   "metadata": {},
   "source": [
    "# A list of ISO3 codes of EU countries"
   ]
  },
  {
   "cell_type": "code",
   "execution_count": 4,
   "metadata": {},
   "outputs": [],
   "source": [
    "eu_iso3 = pd.read_csv(output_data_dir/\"Country_Codes_and_Names_ISO3.csv\")\n",
    "\n",
    "eu_iso = eu_iso3[\"ISO3\"].to_list()\n",
    "\n",
    "eu_iso.append(\"EU27\")"
   ]
  },
  {
   "cell_type": "markdown",
   "metadata": {},
   "source": [
    "# Make output_dir for each country"
   ]
  },
  {
   "cell_type": "code",
   "execution_count": 7,
   "metadata": {},
   "outputs": [],
   "source": [
    "for iso in eu_iso:\n",
    "    iso_path = os.path.join(output_figure_dir, iso)\n",
    "    \n",
    "    try:\n",
    "        os.mkdir(iso_path)\n",
    "    \n",
    "    except FileExistsError:\n",
    "        # If directory already exists\n",
    "        pass"
   ]
  },
  {
   "cell_type": "code",
   "execution_count": 8,
   "metadata": {},
   "outputs": [],
   "source": [
    "for iso in eu_iso:\n",
    "    iso_path = os.path.join(output_data_dir, iso)\n",
    "    \n",
    "    try:\n",
    "        os.mkdir(iso_path)\n",
    "    \n",
    "    except FileExistsError:\n",
    "        # If directory already exists\n",
    "        pass"
   ]
  },
  {
   "cell_type": "markdown",
   "metadata": {},
   "source": [
    "# Create output_dir for forest data layers"
   ]
  },
  {
   "cell_type": "code",
   "execution_count": 8,
   "metadata": {},
   "outputs": [],
   "source": [
    "# For data\n",
    "forest_data = []\n",
    "for f in os.listdir(\"../input_data\"): \n",
    "    if f.endswith(\".nc\"):\n",
    "        f_sel = f.split(\"_\")[2:]\n",
    "        f_new = '_'.join(f_sel[:-1] + [f_sel[-1].replace('.nc', '')])\n",
    "\n",
    "        forest_data.append(f_new)\n",
    "\n",
    "# For each iso folder, create a folder for forest data layer\n",
    "for iso in eu_iso:\n",
    "    root_dir = os.path.join(output_data_dir, iso)\n",
    "    \n",
    "    for subfolder in forest_data:\n",
    "        try:\n",
    "            os.mkdir(os.path.join(root_dir, subfolder))\n",
    "        \n",
    "        except FileExistsError:\n",
    "            pass"
   ]
  },
  {
   "cell_type": "code",
   "execution_count": 9,
   "metadata": {},
   "outputs": [],
   "source": [
    "# For figures\n",
    "forest_data = []\n",
    "for f in os.listdir(\"../input_data\"): \n",
    "    if f.endswith(\".nc\"):\n",
    "        f_sel = f.split(\"_\")[2:]\n",
    "        f_new = '_'.join(f_sel[:-1] + [f_sel[-1].replace('.nc', '')])\n",
    "\n",
    "        forest_data.append(f_new)\n",
    "\n",
    "# For each iso folder, create a folder for forest data layer\n",
    "for iso in eu_iso:\n",
    "    root_dir = os.path.join(output_figure_dir, iso)\n",
    "    \n",
    "    for subfolder in forest_data:\n",
    "        try:\n",
    "            os.mkdir(os.path.join(root_dir, subfolder))\n",
    "        \n",
    "        except FileExistsError:\n",
    "            pass"
   ]
  },
  {
   "cell_type": "code",
   "execution_count": null,
   "metadata": {},
   "outputs": [],
   "source": []
  }
 ],
 "metadata": {
  "kernelspec": {
   "display_name": "firza_forest_geo",
   "language": "python",
   "name": "python3"
  },
  "language_info": {
   "codemirror_mode": {
    "name": "ipython",
    "version": 3
   },
   "file_extension": ".py",
   "mimetype": "text/x-python",
   "name": "python",
   "nbconvert_exporter": "python",
   "pygments_lexer": "ipython3",
   "version": "3.11.8"
  }
 },
 "nbformat": 4,
 "nbformat_minor": 2
}
